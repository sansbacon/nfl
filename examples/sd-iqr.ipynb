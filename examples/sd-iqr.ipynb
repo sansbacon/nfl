{
 "cells": [
  {
   "cell_type": "markdown",
   "metadata": {
    "collapsed": true
   },
   "source": [
    "# Standard Deviation vs. Interquartile Range"
   ]
  },
  {
   "cell_type": "markdown",
   "metadata": {
    "collapsed": true
   },
   "source": [
    "The standard deviation and interquartile range are two measures of the spread of a distribution. It is potentially misleading to rely on standard deviation to assess player consistency in fantasy football for a couple of reasons.\n",
    "\n",
    "Standard deviation is the square root of variance, which is the sum of squares of the deviation from the mean. In small sample sizes, such as a NFL season, a single outlier game can distort the mean. There is a related problem that the reader may assume that 68% of the values are within one standard deviation of the mean, which does not hold if the values are not normally distributed. \n",
    "\n",
    "Consider the following player, who has a random score between 10-15 in 15 games and then a 40-point explosion in week 17. This player is extremely consistent, and the \"inconsistent\" game is not problematic from a fantasy perspective, as there is no downside from a player having an occasional big game."
   ]
  },
  {
   "cell_type": "code",
   "execution_count": 28,
   "metadata": {},
   "outputs": [
    {
     "data": {
      "text/html": [
       "<ol class=list-inline>\n",
       "\t<li>14</li>\n",
       "\t<li>12</li>\n",
       "\t<li>12</li>\n",
       "\t<li>11</li>\n",
       "\t<li>10</li>\n",
       "\t<li>11</li>\n",
       "\t<li>12</li>\n",
       "\t<li>10</li>\n",
       "\t<li>13</li>\n",
       "\t<li>13</li>\n",
       "\t<li>15</li>\n",
       "\t<li>10</li>\n",
       "\t<li>15</li>\n",
       "\t<li>11</li>\n",
       "\t<li>10</li>\n",
       "\t<li>40</li>\n",
       "</ol>\n"
      ],
      "text/latex": [
       "\\begin{enumerate*}\n",
       "\\item 14\n",
       "\\item 12\n",
       "\\item 12\n",
       "\\item 11\n",
       "\\item 10\n",
       "\\item 11\n",
       "\\item 12\n",
       "\\item 10\n",
       "\\item 13\n",
       "\\item 13\n",
       "\\item 15\n",
       "\\item 10\n",
       "\\item 15\n",
       "\\item 11\n",
       "\\item 10\n",
       "\\item 40\n",
       "\\end{enumerate*}\n"
      ],
      "text/markdown": [
       "1. 14\n",
       "2. 12\n",
       "3. 12\n",
       "4. 11\n",
       "5. 10\n",
       "6. 11\n",
       "7. 12\n",
       "8. 10\n",
       "9. 13\n",
       "10. 13\n",
       "11. 15\n",
       "12. 10\n",
       "13. 15\n",
       "14. 11\n",
       "15. 10\n",
       "16. 40\n",
       "\n",
       "\n"
      ],
      "text/plain": [
       " [1] 14 12 12 11 10 11 12 10 13 13 15 10 15 11 10 40"
      ]
     },
     "metadata": {},
     "output_type": "display_data"
    }
   ],
   "source": [
    "gamelog1 <- c(sample(10:15, 15, replace = TRUE), 40)\n",
    "gamelog1"
   ]
  },
  {
   "cell_type": "code",
   "execution_count": 29,
   "metadata": {},
   "outputs": [
    {
     "data": {
      "text/html": [
       "<table>\n",
       "<thead><tr><th></th><th scope=col>vars</th><th scope=col>n</th><th scope=col>mean</th><th scope=col>sd</th><th scope=col>median</th><th scope=col>trimmed</th><th scope=col>mad</th><th scope=col>min</th><th scope=col>max</th><th scope=col>range</th><th scope=col>skew</th><th scope=col>kurtosis</th><th scope=col>se</th></tr></thead>\n",
       "<tbody>\n",
       "\t<tr><th scope=row>X1</th><td>1       </td><td>16      </td><td>13.6875 </td><td>7.217744</td><td>12      </td><td>12.07143</td><td>2.2239  </td><td>10      </td><td>40      </td><td>30      </td><td>2.983278</td><td>8.060159</td><td>1.804436</td></tr>\n",
       "</tbody>\n",
       "</table>\n"
      ],
      "text/latex": [
       "\\begin{tabular}{r|lllllllllllll}\n",
       "  & vars & n & mean & sd & median & trimmed & mad & min & max & range & skew & kurtosis & se\\\\\n",
       "\\hline\n",
       "\tX1 & 1        & 16       & 13.6875  & 7.217744 & 12       & 12.07143 & 2.2239   & 10       & 40       & 30       & 2.983278 & 8.060159 & 1.804436\\\\\n",
       "\\end{tabular}\n"
      ],
      "text/markdown": [
       "\n",
       "| <!--/--> | vars | n | mean | sd | median | trimmed | mad | min | max | range | skew | kurtosis | se | \n",
       "|---|\n",
       "| X1 | 1        | 16       | 13.6875  | 7.217744 | 12       | 12.07143 | 2.2239   | 10       | 40       | 30       | 2.983278 | 8.060159 | 1.804436 | \n",
       "\n",
       "\n"
      ],
      "text/plain": [
       "   vars n  mean    sd       median trimmed  mad    min max range skew    \n",
       "X1 1    16 13.6875 7.217744 12     12.07143 2.2239 10  40  30    2.983278\n",
       "   kurtosis se      \n",
       "X1 8.060159 1.804436"
      ]
     },
     "metadata": {},
     "output_type": "display_data"
    }
   ],
   "source": [
    "library(psych)\n",
    "describe(gamelog1)"
   ]
  },
  {
   "cell_type": "markdown",
   "metadata": {},
   "source": [
    "Using standard deviation as a measure of consistency presents a misleading picture in this case because the mean is artifically inflated by one outlier. It also suggests that 11 of the player's games (16 x .68) fall between 6.5 (13.7-7.2) and 20.9 (13.7 + 7.2) fantasy points, which overstates the amount of week-to-week variance because the minimum value is 10 and only 1 game falls outside of the range of 10-15."
   ]
  },
  {
   "cell_type": "markdown",
   "metadata": {},
   "source": [
    "Interquartile range (IQR) shows that 50% of the values are between 10.75 and 13.25 which is more accurate, and probably says more about consistency than deviation from the mean that is skewed by an outlier."
   ]
  },
  {
   "cell_type": "code",
   "execution_count": 30,
   "metadata": {},
   "outputs": [
    {
     "data": {
      "text/plain": [
       "   Min. 1st Qu.  Median    Mean 3rd Qu.    Max. \n",
       "  10.00   10.75   12.00   13.69   13.25   40.00 "
      ]
     },
     "metadata": {},
     "output_type": "display_data"
    }
   ],
   "source": [
    "summary(gamelog1)"
   ]
  },
  {
   "cell_type": "markdown",
   "metadata": {},
   "source": [
    "Consider another player who is more inconsistent on a weekly basis, but does not have a big game. Standard deviation depicts this player as much more consistent than our previous player, despite this not really being the case. IQR is higher for player 2 than for player 1, despite a much lower standard deviation.  "
   ]
  },
  {
   "cell_type": "code",
   "execution_count": 35,
   "metadata": {},
   "outputs": [
    {
     "data": {
      "text/html": [
       "<ol class=list-inline>\n",
       "\t<li>10</li>\n",
       "\t<li>17</li>\n",
       "\t<li>13</li>\n",
       "\t<li>11</li>\n",
       "\t<li>11</li>\n",
       "\t<li>11</li>\n",
       "\t<li>16</li>\n",
       "\t<li>9</li>\n",
       "\t<li>11</li>\n",
       "\t<li>15</li>\n",
       "\t<li>17</li>\n",
       "\t<li>12</li>\n",
       "\t<li>17</li>\n",
       "\t<li>14</li>\n",
       "\t<li>10</li>\n",
       "\t<li>7</li>\n",
       "</ol>\n"
      ],
      "text/latex": [
       "\\begin{enumerate*}\n",
       "\\item 10\n",
       "\\item 17\n",
       "\\item 13\n",
       "\\item 11\n",
       "\\item 11\n",
       "\\item 11\n",
       "\\item 16\n",
       "\\item 9\n",
       "\\item 11\n",
       "\\item 15\n",
       "\\item 17\n",
       "\\item 12\n",
       "\\item 17\n",
       "\\item 14\n",
       "\\item 10\n",
       "\\item 7\n",
       "\\end{enumerate*}\n"
      ],
      "text/markdown": [
       "1. 10\n",
       "2. 17\n",
       "3. 13\n",
       "4. 11\n",
       "5. 11\n",
       "6. 11\n",
       "7. 16\n",
       "8. 9\n",
       "9. 11\n",
       "10. 15\n",
       "11. 17\n",
       "12. 12\n",
       "13. 17\n",
       "14. 14\n",
       "15. 10\n",
       "16. 7\n",
       "\n",
       "\n"
      ],
      "text/plain": [
       " [1] 10 17 13 11 11 11 16  9 11 15 17 12 17 14 10  7"
      ]
     },
     "metadata": {},
     "output_type": "display_data"
    }
   ],
   "source": [
    "gamelog2 <- sample(7:17, 16, replace = TRUE)\n",
    "gamelog2"
   ]
  },
  {
   "cell_type": "code",
   "execution_count": 36,
   "metadata": {},
   "outputs": [
    {
     "data": {
      "text/html": [
       "<table>\n",
       "<thead><tr><th></th><th scope=col>vars</th><th scope=col>n</th><th scope=col>mean</th><th scope=col>sd</th><th scope=col>median</th><th scope=col>trimmed</th><th scope=col>mad</th><th scope=col>min</th><th scope=col>max</th><th scope=col>range</th><th scope=col>skew</th><th scope=col>kurtosis</th><th scope=col>se</th></tr></thead>\n",
       "<tbody>\n",
       "\t<tr><th scope=row>X1</th><td>1        </td><td>16       </td><td>12.5625  </td><td>3.119161 </td><td>11.5     </td><td>12.64286 </td><td>2.9652   </td><td>7        </td><td>17       </td><td>10       </td><td>0.1109729</td><td>-1.302346</td><td>0.7797903</td></tr>\n",
       "</tbody>\n",
       "</table>\n"
      ],
      "text/latex": [
       "\\begin{tabular}{r|lllllllllllll}\n",
       "  & vars & n & mean & sd & median & trimmed & mad & min & max & range & skew & kurtosis & se\\\\\n",
       "\\hline\n",
       "\tX1 & 1         & 16        & 12.5625   & 3.119161  & 11.5      & 12.64286  & 2.9652    & 7         & 17        & 10        & 0.1109729 & -1.302346 & 0.7797903\\\\\n",
       "\\end{tabular}\n"
      ],
      "text/markdown": [
       "\n",
       "| <!--/--> | vars | n | mean | sd | median | trimmed | mad | min | max | range | skew | kurtosis | se | \n",
       "|---|\n",
       "| X1 | 1         | 16        | 12.5625   | 3.119161  | 11.5      | 12.64286  | 2.9652    | 7         | 17        | 10        | 0.1109729 | -1.302346 | 0.7797903 | \n",
       "\n",
       "\n"
      ],
      "text/plain": [
       "   vars n  mean    sd       median trimmed  mad    min max range skew     \n",
       "X1 1    16 12.5625 3.119161 11.5   12.64286 2.9652 7   17  10    0.1109729\n",
       "   kurtosis  se       \n",
       "X1 -1.302346 0.7797903"
      ]
     },
     "metadata": {},
     "output_type": "display_data"
    }
   ],
   "source": [
    "describe(gamelog2)"
   ]
  },
  {
   "cell_type": "code",
   "execution_count": 37,
   "metadata": {},
   "outputs": [
    {
     "data": {
      "text/plain": [
       "   Min. 1st Qu.  Median    Mean 3rd Qu.    Max. \n",
       "   7.00   10.75   11.50   12.56   15.25   17.00 "
      ]
     },
     "metadata": {},
     "output_type": "display_data"
    }
   ],
   "source": [
    "summary(gamelog2)"
   ]
  },
  {
   "cell_type": "code",
   "execution_count": null,
   "metadata": {
    "collapsed": true
   },
   "outputs": [],
   "source": []
  }
 ],
 "metadata": {
  "kernelspec": {
   "display_name": "R",
   "language": "R",
   "name": "ir"
  },
  "language_info": {
   "codemirror_mode": "r",
   "file_extension": ".r",
   "mimetype": "text/x-r-source",
   "name": "R",
   "pygments_lexer": "r",
   "version": "3.3.3"
  }
 },
 "nbformat": 4,
 "nbformat_minor": 2
}
