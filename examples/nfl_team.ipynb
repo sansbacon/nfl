{
 "metadata": {
  "name": "",
  "signature": "sha256:7e7d5e1174f780814881d42d2e01f81318913b34befb104d3b9d390202267f00"
 },
 "nbformat": 3,
 "nbformat_minor": 0,
 "worksheets": [
  {
   "cells": [
    {
     "cell_type": "code",
     "collapsed": false,
     "input": [
      "import logging\n",
      "import os\n",
      "import sys\n",
      "\n",
      "from configparser import ConfigParser"
     ],
     "language": "python",
     "metadata": {},
     "outputs": [],
     "prompt_number": 1
    },
    {
     "cell_type": "code",
     "collapsed": false,
     "input": [
      "%matplotlib inline\n",
      "import pandas as pd\n",
      "import numpy as np\n",
      "import matplotlib\n",
      "import matplotlib.pyplot as plt"
     ],
     "language": "python",
     "metadata": {},
     "outputs": [],
     "prompt_number": 2
    },
    {
     "cell_type": "code",
     "collapsed": false,
     "input": [
      "import seaborn as sns\n",
      "sns.set(color_codes=True)"
     ],
     "language": "python",
     "metadata": {},
     "outputs": [],
     "prompt_number": 3
    },
    {
     "cell_type": "code",
     "collapsed": false,
     "input": [
      "from nfl.db.nflpg import NFLPostgres"
     ],
     "language": "python",
     "metadata": {},
     "outputs": [],
     "prompt_number": 4
    },
    {
     "cell_type": "code",
     "collapsed": false,
     "input": [
      "logging.basicConfig(stream=sys.stdout, level=logging.INFO)\n",
      "\n",
      "config = ConfigParser()\n",
      "configfn = os.path.join(os.path.expanduser('~'), '.pgcred')\n",
      "config.read(configfn)\n",
      "db = NFLPostgres(user=config['nfldb']['username'],\n",
      "                password=config['nfldb']['password'],\n",
      "                database=config['nfldb']['database'])"
     ],
     "language": "python",
     "metadata": {},
     "outputs": [],
     "prompt_number": 5
    },
    {
     "cell_type": "markdown",
     "metadata": {},
     "source": [
      "## Team Scoring"
     ]
    },
    {
     "cell_type": "markdown",
     "metadata": {},
     "source": [
      "Query nfldb database for offensive touchdown plays. We'll save it as a view \"offensive_tds\".\n",
      "\n",
      "    CREATE VIEW offense_tds AS\n",
      "    \n",
      "    WITH td AS (\n",
      "      select gsis_id, drive_id, play_id, (time).phase, yardline, down, yards_to_go \n",
      "      from play \n",
      "      where note = 'TD'\n",
      "    )\n",
      "\n",
      "    SELECT \n",
      "      g.season_year, g.week, g.gsis_id,\n",
      "      d.pos_team as team, (CASE WHEN d.pos_team = home_team THEN away_team ELSE home_team END) as opp,\n",
      "      td.drive_id, td.play_id, td.phase, ap.passing_yds, ap.passing_tds, ap.rushing_yds, ap.rushing_tds\n",
      "    FROM td\n",
      "    LEFT JOIN agg_play ap \n",
      "    ON td.gsis_id = ap.gsis_id AND td.drive_id = ap.drive_id AND td.play_id = ap.play_id\n",
      "    LEFT JOIN drive d ON td.gsis_id = d.gsis_id AND td.drive_id = d.drive_id\n",
      "    LEFT JOIN game g ON td.gsis_id = g.gsis_id\n",
      "    WHERE g.season_type = 'Regular' AND (passing_tds + rushing_tds) > 0\n",
      "    ORDER BY gsis_id;"
     ]
    },
    {
     "cell_type": "code",
     "collapsed": false,
     "input": [
      "tds = db.select_dict('SELECT * FROM offense_tds')"
     ],
     "language": "python",
     "metadata": {},
     "outputs": [],
     "prompt_number": 6
    },
    {
     "cell_type": "code",
     "collapsed": false,
     "input": [
      "df = pd.DataFrame(tds)"
     ],
     "language": "python",
     "metadata": {},
     "outputs": [],
     "prompt_number": 7
    },
    {
     "cell_type": "code",
     "collapsed": false,
     "input": [
      "df.head()"
     ],
     "language": "python",
     "metadata": {},
     "outputs": [
      {
       "html": [
        "<div style=\"max-width:1500px;overflow:auto;\">\n",
        "<table border=\"1\" class=\"dataframe\">\n",
        "  <thead>\n",
        "    <tr style=\"text-align: right;\">\n",
        "      <th></th>\n",
        "      <th>drive_id</th>\n",
        "      <th>gsis_id</th>\n",
        "      <th>opp</th>\n",
        "      <th>passing_tds</th>\n",
        "      <th>passing_yds</th>\n",
        "      <th>phase</th>\n",
        "      <th>play_id</th>\n",
        "      <th>rushing_tds</th>\n",
        "      <th>rushing_yds</th>\n",
        "      <th>season_year</th>\n",
        "      <th>team</th>\n",
        "      <th>week</th>\n",
        "    </tr>\n",
        "  </thead>\n",
        "  <tbody>\n",
        "    <tr>\n",
        "      <th>0</th>\n",
        "      <td>11</td>\n",
        "      <td>2009091000</td>\n",
        "      <td>TEN</td>\n",
        "      <td>1</td>\n",
        "      <td>34</td>\n",
        "      <td>Q2</td>\n",
        "      <td>1785</td>\n",
        "      <td>0</td>\n",
        "      <td>0</td>\n",
        "      <td>2009</td>\n",
        "      <td>PIT</td>\n",
        "      <td>1</td>\n",
        "    </tr>\n",
        "    <tr>\n",
        "      <th>1</th>\n",
        "      <td>12</td>\n",
        "      <td>2009091000</td>\n",
        "      <td>PIT</td>\n",
        "      <td>1</td>\n",
        "      <td>14</td>\n",
        "      <td>Q2</td>\n",
        "      <td>1906</td>\n",
        "      <td>0</td>\n",
        "      <td>0</td>\n",
        "      <td>2009</td>\n",
        "      <td>TEN</td>\n",
        "      <td>1</td>\n",
        "    </tr>\n",
        "    <tr>\n",
        "      <th>2</th>\n",
        "      <td>5</td>\n",
        "      <td>2009091300</td>\n",
        "      <td>MIA</td>\n",
        "      <td>1</td>\n",
        "      <td>1</td>\n",
        "      <td>Q2</td>\n",
        "      <td>1131</td>\n",
        "      <td>0</td>\n",
        "      <td>0</td>\n",
        "      <td>2009</td>\n",
        "      <td>ATL</td>\n",
        "      <td>1</td>\n",
        "    </tr>\n",
        "    <tr>\n",
        "      <th>3</th>\n",
        "      <td>16</td>\n",
        "      <td>2009091300</td>\n",
        "      <td>MIA</td>\n",
        "      <td>1</td>\n",
        "      <td>20</td>\n",
        "      <td>Q3</td>\n",
        "      <td>2523</td>\n",
        "      <td>0</td>\n",
        "      <td>0</td>\n",
        "      <td>2009</td>\n",
        "      <td>ATL</td>\n",
        "      <td>1</td>\n",
        "    </tr>\n",
        "    <tr>\n",
        "      <th>4</th>\n",
        "      <td>21</td>\n",
        "      <td>2009091300</td>\n",
        "      <td>ATL</td>\n",
        "      <td>1</td>\n",
        "      <td>9</td>\n",
        "      <td>Q4</td>\n",
        "      <td>3475</td>\n",
        "      <td>0</td>\n",
        "      <td>0</td>\n",
        "      <td>2009</td>\n",
        "      <td>MIA</td>\n",
        "      <td>1</td>\n",
        "    </tr>\n",
        "  </tbody>\n",
        "</table>\n",
        "</div>"
       ],
       "metadata": {},
       "output_type": "pyout",
       "prompt_number": 8,
       "text": [
        "   drive_id     gsis_id  opp  passing_tds  passing_yds phase  play_id  rushing_tds  rushing_yds  season_year team  week\n",
        "0        11  2009091000  TEN            1           34    Q2     1785            0            0         2009  PIT     1\n",
        "1        12  2009091000  PIT            1           14    Q2     1906            0            0         2009  TEN     1\n",
        "2         5  2009091300  MIA            1            1    Q2     1131            0            0         2009  ATL     1\n",
        "3        16  2009091300  MIA            1           20    Q3     2523            0            0         2009  ATL     1\n",
        "4        21  2009091300  ATL            1            9    Q4     3475            0            0         2009  MIA     1"
       ]
      }
     ],
     "prompt_number": 8
    },
    {
     "cell_type": "markdown",
     "metadata": {},
     "source": [
      "### Rushing TD vs. Passing TD"
     ]
    },
    {
     "cell_type": "code",
     "collapsed": false,
     "input": [
      "yearly = df.groupby(['season_year']).agg({'passing_tds': np.sum, 'rushing_tds': np.sum})\n",
      "yearly['pass_ratio'] = yearly.passing_tds / (yearly.passing_tds + yearly.rushing_tds)\n",
      "yearly['rush_ratio'] = yearly.rushing_tds / (yearly.passing_tds + yearly.rushing_tds)\n",
      "yearly.reset_index(level=0, inplace=True)"
     ],
     "language": "python",
     "metadata": {},
     "outputs": [],
     "prompt_number": 48
    },
    {
     "cell_type": "code",
     "collapsed": false,
     "input": [
      "yearly"
     ],
     "language": "python",
     "metadata": {},
     "outputs": [
      {
       "html": [
        "<div style=\"max-width:1500px;overflow:auto;\">\n",
        "<table border=\"1\" class=\"dataframe\">\n",
        "  <thead>\n",
        "    <tr style=\"text-align: right;\">\n",
        "      <th></th>\n",
        "      <th>season_year</th>\n",
        "      <th>passing_tds</th>\n",
        "      <th>rushing_tds</th>\n",
        "      <th>pass_ratio</th>\n",
        "      <th>rush_ratio</th>\n",
        "    </tr>\n",
        "  </thead>\n",
        "  <tbody>\n",
        "    <tr>\n",
        "      <th>0</th>\n",
        "      <td>2009</td>\n",
        "      <td>711</td>\n",
        "      <td>428</td>\n",
        "      <td>0.624232</td>\n",
        "      <td>0.375768</td>\n",
        "    </tr>\n",
        "    <tr>\n",
        "      <th>1</th>\n",
        "      <td>2010</td>\n",
        "      <td>752</td>\n",
        "      <td>399</td>\n",
        "      <td>0.653345</td>\n",
        "      <td>0.346655</td>\n",
        "    </tr>\n",
        "    <tr>\n",
        "      <th>2</th>\n",
        "      <td>2011</td>\n",
        "      <td>745</td>\n",
        "      <td>400</td>\n",
        "      <td>0.650655</td>\n",
        "      <td>0.349345</td>\n",
        "    </tr>\n",
        "    <tr>\n",
        "      <th>3</th>\n",
        "      <td>2012</td>\n",
        "      <td>756</td>\n",
        "      <td>403</td>\n",
        "      <td>0.652286</td>\n",
        "      <td>0.347714</td>\n",
        "    </tr>\n",
        "    <tr>\n",
        "      <th>4</th>\n",
        "      <td>2013</td>\n",
        "      <td>803</td>\n",
        "      <td>410</td>\n",
        "      <td>0.661995</td>\n",
        "      <td>0.338005</td>\n",
        "    </tr>\n",
        "    <tr>\n",
        "      <th>5</th>\n",
        "      <td>2014</td>\n",
        "      <td>803</td>\n",
        "      <td>379</td>\n",
        "      <td>0.679357</td>\n",
        "      <td>0.320643</td>\n",
        "    </tr>\n",
        "    <tr>\n",
        "      <th>6</th>\n",
        "      <td>2015</td>\n",
        "      <td>842</td>\n",
        "      <td>365</td>\n",
        "      <td>0.697597</td>\n",
        "      <td>0.302403</td>\n",
        "    </tr>\n",
        "    <tr>\n",
        "      <th>7</th>\n",
        "      <td>2016</td>\n",
        "      <td>786</td>\n",
        "      <td>444</td>\n",
        "      <td>0.639024</td>\n",
        "      <td>0.360976</td>\n",
        "    </tr>\n",
        "  </tbody>\n",
        "</table>\n",
        "</div>"
       ],
       "metadata": {},
       "output_type": "pyout",
       "prompt_number": 134,
       "text": [
        "   season_year  passing_tds  rushing_tds  pass_ratio  rush_ratio\n",
        "0         2009          711          428    0.624232    0.375768\n",
        "1         2010          752          399    0.653345    0.346655\n",
        "2         2011          745          400    0.650655    0.349345\n",
        "3         2012          756          403    0.652286    0.347714\n",
        "4         2013          803          410    0.661995    0.338005\n",
        "5         2014          803          379    0.679357    0.320643\n",
        "6         2015          842          365    0.697597    0.302403\n",
        "7         2016          786          444    0.639024    0.360976"
       ]
      }
     ],
     "prompt_number": 134
    },
    {
     "cell_type": "code",
     "collapsed": false,
     "input": [
      "vals = [[{'season': int(x[0]), 'td_type': 'passing', 'tds': x[1], 'ratio': round(x[3],3)}, \n",
      "            {'season': int(x[0]), 'td_type': 'rushing', 'tds': x[2], 'ratio': round(x[4],3)},\n",
      "            {'season': int(x[0]), 'td_type': 'total', 'tds': x[1] + x[2], 'ratio': 1}\n",
      "            ]\n",
      "          for idx, x in yearly.iterrows()]\n",
      "yearly2 = pd.DataFrame([item for sublist in vals for item in sublist])"
     ],
     "language": "python",
     "metadata": {},
     "outputs": [],
     "prompt_number": 130
    },
    {
     "cell_type": "code",
     "collapsed": false,
     "input": [
      "sns.set_style(\"whitegrid\")\n",
      "sns.set_style(\"ticks\")\n",
      "ax = sns.pointplot(x='season', y='ratio', hue='td_type', data=yearly2.loc[yearly2['td_type'].isin(['rushing', 'passing'])])\n",
      "ax.set(xlabel='NFL Season', ylabel='Touchdown Percentage')\n",
      "ax.xaxis.labelpad = 20\n",
      "ax.yaxis.labelpad = 20\n",
      "ax.set_title('Touchdown Percentage: 2009 to 2016')\n",
      "ttl = ax.title\n",
      "ttl.set_position([.45, 1.08])\n",
      "ttl.set_fontweight('bold')\n",
      "ttl.set_fontsize(16)   \n",
      "ax.legend(loc='upper left')"
     ],
     "language": "python",
     "metadata": {},
     "outputs": [
      {
       "metadata": {},
       "output_type": "pyout",
       "prompt_number": 143,
       "text": [
        "<matplotlib.legend.Legend at 0x7f8d73fcc550>"
       ]
      },
      {
       "metadata": {},
       "output_type": "display_data",
       "png": "[encoded data removed]",
       "text": [
        "<matplotlib.figure.Figure at 0x7f8d73fcc5d0>"
       ]
      }
     ],
     "prompt_number": 143
    },
    {
     "cell_type": "code",
     "collapsed": false,
     "input": [
      "sns.set_style(\"whitegrid\")\n",
      "sns.set_style(\"ticks\")\n",
      "ax = sns.pointplot(x='season', y='tds', hue='td_type', data=yearly2, legend=False)\n",
      "ax.set(xlabel='NFL Season', ylabel='Touchdowns')\n",
      "ax.xaxis.labelpad = 20\n",
      "ax.yaxis.labelpad = 20\n",
      "ax.set_title('Touchdowns: 2009 to 2016')\n",
      "ttl = ax.title\n",
      "ttl.set_position([.45, 1.08])\n",
      "ttl.set_fontweight('bold')\n",
      "ttl.set_fontsize(16)   \n",
      "ax.legend(loc='upper left')"
     ],
     "language": "python",
     "metadata": {},
     "outputs": [
      {
       "metadata": {},
       "output_type": "pyout",
       "prompt_number": 159,
       "text": [
        "<matplotlib.legend.Legend at 0x7f8d73609f10>"
       ]
      },
      {
       "metadata": {},
       "output_type": "display_data",
       "png": "[encoded data removed]",
       "text": [
        "<matplotlib.figure.Figure at 0x7f8d736091d0>"
       ]
      }
     ],
     "prompt_number": 159
    },
    {
     "cell_type": "code",
     "collapsed": false,
     "input": [],
     "language": "python",
     "metadata": {},
     "outputs": []
    }
   ],
   "metadata": {}
  }
 ]
}