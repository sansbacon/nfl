{
 "cells": [
  {
   "cell_type": "markdown",
   "metadata": {
    "collapsed": true
   },
   "source": [
    "# NFL DFS"
   ]
  },
  {
   "cell_type": "markdown",
   "metadata": {
    "collapsed": true
   },
   "source": [
    "This is an overview of . . ."
   ]
  },
  {
   "cell_type": "markdown",
   "metadata": {},
   "source": [
    "## Setting up the R Environment"
   ]
  },
  {
   "cell_type": "code",
   "execution_count": 1,
   "metadata": {},
   "outputs": [],
   "source": [
    "library(dplyr, warn.conflicts = FALSE)\n",
    "library(ggplot2)\n",
    "library(reshape2)\n",
    "\n",
    "# see appendix for more details about this library\n",
    "library(ffopt)"
   ]
  },
  {
   "cell_type": "markdown",
   "metadata": {},
   "source": [
    "## Setting up the Database Connection"
   ]
  },
  {
   "cell_type": "markdown",
   "metadata": {},
   "source": [
    "See the Appendix for additional details."
   ]
  },
  {
   "cell_type": "code",
   "execution_count": 5,
   "metadata": {},
   "outputs": [],
   "source": [
    "require(RPostgreSQL)\n",
    "con <- dbcon()"
   ]
  },
  {
   "cell_type": "markdown",
   "metadata": {},
   "source": [
    "## DFS Data: 2015 + 2016 seasons"
   ]
  },
  {
   "cell_type": "code",
   "execution_count": 6,
   "metadata": {},
   "outputs": [
    {
     "name": "stdout",
     "output_type": "stream",
     "text": [
      "'data.frame':\t10094 obs. of  12 variables:\n",
      " $ gsis_id    : chr  \"2015091302\" \"2015091301\" \"2015091305\" \"2015091309\" ...\n",
      " $ season_year: int  2015 2015 2015 2015 2015 2015 2015 2015 2015 2015 ...\n",
      " $ week       : int  1 1 1 1 1 1 1 1 1 1 ...\n",
      " $ player_name: chr  \"Carolina Defense\" \"Seattle Defense\" \"New York J Defense\" \"Denver Defense\" ...\n",
      " $ player_pos : chr  \"DST\" \"DST\" \"DST\" \"DST\" ...\n",
      " $ team_code  : chr  \"CAR\" \"SEA\" \"NYJ\" \"DEN\" ...\n",
      " $ opp        : chr  \"JAC\" \"STL\" \"CLE\" \"BAL\" ...\n",
      " $ dk_salary  : int  3100 3400 2900 2800 2700 2800 3000 2800 2800 2800 ...\n",
      " $ dk_points  : num  21 19 17 16 16 15 15 14 14 13 ...\n",
      " $ ou         : num  41 42 40 46 46 40 46 42 42 46 ...\n",
      " $ imptot     : num  22 23 22 25 21 18.5 25 19 20 21 ...\n",
      " $ opp_imptot : num  19 19 18 21 25 21.5 21 23 22 25 ...\n"
     ]
    }
   ],
   "source": [
    "# get dfs data\n",
    "dfs = dataset.dfs(con)\n",
    "str(dfs)"
   ]
  },
  {
   "cell_type": "code",
   "execution_count": null,
   "metadata": {
    "collapsed": true
   },
   "outputs": [],
   "source": [
    "# test optimizer\n",
    "Lineups(dfs %>% \n",
    "          rename(position=player_pos, fppg=dk_points, salary=dk_salary) %>%\n",
    "          filter(season_year==2016, week==1), \n",
    "          n=2, max.points=200\n",
    ")"
   ]
  },
  {
   "cell_type": "code",
   "execution_count": null,
   "metadata": {
    "collapsed": true
   },
   "outputs": [],
   "source": []
  },
  {
   "cell_type": "code",
   "execution_count": 65,
   "metadata": {},
   "outputs": [],
   "source": [
    "# list of 17 weeks, 2 years of optimal lineups (34 elements total)\n",
    "myls <- vector(\"list\", length = 34)\n",
    "i = 1\n",
    "for (y in c(2015, 2016)) {\n",
    "    for (w in seq(1:17)) {\n",
    "        myls[[i]] = Lineups(dfs %>% \n",
    "          rename(position=player_pos, fppg=dk_points, salary=dk_salary) %>%\n",
    "          filter(season_year==y, week==w, fppg > 10), n=100)\n",
    "        i = i + 1\n",
    "    }\n",
    "}"
   ]
  },
  {
   "cell_type": "code",
   "execution_count": 66,
   "metadata": {},
   "outputs": [],
   "source": [
    "optdf = do.call(rbind.data.frame, myls) %>%\n",
    "   select(-gsis_id, -sim.id, -ou, -imptot, -opp_imptot) %>%\n",
    "   arrange(season_year, week, lineup.id)"
   ]
  },
  {
   "cell_type": "code",
   "execution_count": 78,
   "metadata": {},
   "outputs": [
    {
     "data": {
      "text/html": [
       "<table>\n",
       "<thead><tr><th scope=col>season_year</th><th scope=col>week</th><th scope=col>lineup.id</th><th scope=col>position</th><th scope=col>n</th></tr></thead>\n",
       "<tbody>\n",
       "\t<tr><td>2015</td><td>1   </td><td>1   </td><td>QB  </td><td>1   </td></tr>\n",
       "\t<tr><td>2015</td><td>1   </td><td>1   </td><td>RB  </td><td>2   </td></tr>\n",
       "\t<tr><td>2015</td><td>1   </td><td>1   </td><td>WR  </td><td>3   </td></tr>\n",
       "\t<tr><td>2015</td><td>1   </td><td>1   </td><td>TE  </td><td>2   </td></tr>\n",
       "\t<tr><td>2015</td><td>1   </td><td>1   </td><td>DST </td><td>1   </td></tr>\n",
       "\t<tr><td>2015</td><td>1   </td><td>2   </td><td>QB  </td><td>1   </td></tr>\n",
       "\t<tr><td>2015</td><td>1   </td><td>2   </td><td>RB  </td><td>2   </td></tr>\n",
       "\t<tr><td>2015</td><td>1   </td><td>2   </td><td>WR  </td><td>3   </td></tr>\n",
       "\t<tr><td>2015</td><td>1   </td><td>2   </td><td>TE  </td><td>2   </td></tr>\n",
       "\t<tr><td>2015</td><td>1   </td><td>2   </td><td>DST </td><td>1   </td></tr>\n",
       "\t<tr><td>2015</td><td>1   </td><td>3   </td><td>QB  </td><td>1   </td></tr>\n",
       "\t<tr><td>2015</td><td>1   </td><td>3   </td><td>RB  </td><td>2   </td></tr>\n",
       "\t<tr><td>2015</td><td>1   </td><td>3   </td><td>WR  </td><td>3   </td></tr>\n",
       "\t<tr><td>2015</td><td>1   </td><td>3   </td><td>TE  </td><td>2   </td></tr>\n",
       "\t<tr><td>2015</td><td>1   </td><td>3   </td><td>DST </td><td>1   </td></tr>\n",
       "\t<tr><td>2015</td><td>1   </td><td>4   </td><td>QB  </td><td>1   </td></tr>\n",
       "\t<tr><td>2015</td><td>1   </td><td>4   </td><td>RB  </td><td>2   </td></tr>\n",
       "\t<tr><td>2015</td><td>1   </td><td>4   </td><td>WR  </td><td>3   </td></tr>\n",
       "\t<tr><td>2015</td><td>1   </td><td>4   </td><td>TE  </td><td>2   </td></tr>\n",
       "\t<tr><td>2015</td><td>1   </td><td>4   </td><td>DST </td><td>1   </td></tr>\n",
       "\t<tr><td>2015</td><td>1   </td><td>5   </td><td>QB  </td><td>1   </td></tr>\n",
       "\t<tr><td>2015</td><td>1   </td><td>5   </td><td>RB  </td><td>2   </td></tr>\n",
       "\t<tr><td>2015</td><td>1   </td><td>5   </td><td>WR  </td><td>3   </td></tr>\n",
       "\t<tr><td>2015</td><td>1   </td><td>5   </td><td>TE  </td><td>2   </td></tr>\n",
       "\t<tr><td>2015</td><td>1   </td><td>5   </td><td>DST </td><td>1   </td></tr>\n",
       "\t<tr><td>2015</td><td>1   </td><td>6   </td><td>QB  </td><td>1   </td></tr>\n",
       "\t<tr><td>2015</td><td>1   </td><td>6   </td><td>RB  </td><td>2   </td></tr>\n",
       "\t<tr><td>2015</td><td>1   </td><td>6   </td><td>WR  </td><td>3   </td></tr>\n",
       "\t<tr><td>2015</td><td>1   </td><td>6   </td><td>TE  </td><td>2   </td></tr>\n",
       "\t<tr><td>2015</td><td>1   </td><td>6   </td><td>DST </td><td>1   </td></tr>\n",
       "\t<tr><td>⋮</td><td>⋮</td><td>⋮</td><td>⋮</td><td>⋮</td></tr>\n",
       "\t<tr><td>2016</td><td>17  </td><td> 95 </td><td>QB  </td><td>1   </td></tr>\n",
       "\t<tr><td>2016</td><td>17  </td><td> 95 </td><td>RB  </td><td>3   </td></tr>\n",
       "\t<tr><td>2016</td><td>17  </td><td> 95 </td><td>WR  </td><td>3   </td></tr>\n",
       "\t<tr><td>2016</td><td>17  </td><td> 95 </td><td>TE  </td><td>1   </td></tr>\n",
       "\t<tr><td>2016</td><td>17  </td><td> 95 </td><td>DST </td><td>1   </td></tr>\n",
       "\t<tr><td>2016</td><td>17  </td><td> 96 </td><td>QB  </td><td>1   </td></tr>\n",
       "\t<tr><td>2016</td><td>17  </td><td> 96 </td><td>RB  </td><td>3   </td></tr>\n",
       "\t<tr><td>2016</td><td>17  </td><td> 96 </td><td>WR  </td><td>3   </td></tr>\n",
       "\t<tr><td>2016</td><td>17  </td><td> 96 </td><td>TE  </td><td>1   </td></tr>\n",
       "\t<tr><td>2016</td><td>17  </td><td> 96 </td><td>DST </td><td>1   </td></tr>\n",
       "\t<tr><td>2016</td><td>17  </td><td> 97 </td><td>QB  </td><td>1   </td></tr>\n",
       "\t<tr><td>2016</td><td>17  </td><td> 97 </td><td>RB  </td><td>2   </td></tr>\n",
       "\t<tr><td>2016</td><td>17  </td><td> 97 </td><td>WR  </td><td>3   </td></tr>\n",
       "\t<tr><td>2016</td><td>17  </td><td> 97 </td><td>TE  </td><td>2   </td></tr>\n",
       "\t<tr><td>2016</td><td>17  </td><td> 97 </td><td>DST </td><td>1   </td></tr>\n",
       "\t<tr><td>2016</td><td>17  </td><td> 98 </td><td>QB  </td><td>1   </td></tr>\n",
       "\t<tr><td>2016</td><td>17  </td><td> 98 </td><td>RB  </td><td>2   </td></tr>\n",
       "\t<tr><td>2016</td><td>17  </td><td> 98 </td><td>WR  </td><td>3   </td></tr>\n",
       "\t<tr><td>2016</td><td>17  </td><td> 98 </td><td>TE  </td><td>2   </td></tr>\n",
       "\t<tr><td>2016</td><td>17  </td><td> 98 </td><td>DST </td><td>1   </td></tr>\n",
       "\t<tr><td>2016</td><td>17  </td><td> 99 </td><td>QB  </td><td>1   </td></tr>\n",
       "\t<tr><td>2016</td><td>17  </td><td> 99 </td><td>RB  </td><td>2   </td></tr>\n",
       "\t<tr><td>2016</td><td>17  </td><td> 99 </td><td>WR  </td><td>3   </td></tr>\n",
       "\t<tr><td>2016</td><td>17  </td><td> 99 </td><td>TE  </td><td>2   </td></tr>\n",
       "\t<tr><td>2016</td><td>17  </td><td> 99 </td><td>DST </td><td>1   </td></tr>\n",
       "\t<tr><td>2016</td><td>17  </td><td>100 </td><td>QB  </td><td>1   </td></tr>\n",
       "\t<tr><td>2016</td><td>17  </td><td>100 </td><td>RB  </td><td>2   </td></tr>\n",
       "\t<tr><td>2016</td><td>17  </td><td>100 </td><td>WR  </td><td>3   </td></tr>\n",
       "\t<tr><td>2016</td><td>17  </td><td>100 </td><td>TE  </td><td>2   </td></tr>\n",
       "\t<tr><td>2016</td><td>17  </td><td>100 </td><td>DST </td><td>1   </td></tr>\n",
       "</tbody>\n",
       "</table>\n"
      ],
      "text/latex": [
       "\\begin{tabular}{r|lllll}\n",
       " season\\_year & week & lineup.id & position & n\\\\\n",
       "\\hline\n",
       "\t 2015 & 1    & 1    & QB   & 1   \\\\\n",
       "\t 2015 & 1    & 1    & RB   & 2   \\\\\n",
       "\t 2015 & 1    & 1    & WR   & 3   \\\\\n",
       "\t 2015 & 1    & 1    & TE   & 2   \\\\\n",
       "\t 2015 & 1    & 1    & DST  & 1   \\\\\n",
       "\t 2015 & 1    & 2    & QB   & 1   \\\\\n",
       "\t 2015 & 1    & 2    & RB   & 2   \\\\\n",
       "\t 2015 & 1    & 2    & WR   & 3   \\\\\n",
       "\t 2015 & 1    & 2    & TE   & 2   \\\\\n",
       "\t 2015 & 1    & 2    & DST  & 1   \\\\\n",
       "\t 2015 & 1    & 3    & QB   & 1   \\\\\n",
       "\t 2015 & 1    & 3    & RB   & 2   \\\\\n",
       "\t 2015 & 1    & 3    & WR   & 3   \\\\\n",
       "\t 2015 & 1    & 3    & TE   & 2   \\\\\n",
       "\t 2015 & 1    & 3    & DST  & 1   \\\\\n",
       "\t 2015 & 1    & 4    & QB   & 1   \\\\\n",
       "\t 2015 & 1    & 4    & RB   & 2   \\\\\n",
       "\t 2015 & 1    & 4    & WR   & 3   \\\\\n",
       "\t 2015 & 1    & 4    & TE   & 2   \\\\\n",
       "\t 2015 & 1    & 4    & DST  & 1   \\\\\n",
       "\t 2015 & 1    & 5    & QB   & 1   \\\\\n",
       "\t 2015 & 1    & 5    & RB   & 2   \\\\\n",
       "\t 2015 & 1    & 5    & WR   & 3   \\\\\n",
       "\t 2015 & 1    & 5    & TE   & 2   \\\\\n",
       "\t 2015 & 1    & 5    & DST  & 1   \\\\\n",
       "\t 2015 & 1    & 6    & QB   & 1   \\\\\n",
       "\t 2015 & 1    & 6    & RB   & 2   \\\\\n",
       "\t 2015 & 1    & 6    & WR   & 3   \\\\\n",
       "\t 2015 & 1    & 6    & TE   & 2   \\\\\n",
       "\t 2015 & 1    & 6    & DST  & 1   \\\\\n",
       "\t ⋮ & ⋮ & ⋮ & ⋮ & ⋮\\\\\n",
       "\t 2016 & 17   &  95  & QB   & 1   \\\\\n",
       "\t 2016 & 17   &  95  & RB   & 3   \\\\\n",
       "\t 2016 & 17   &  95  & WR   & 3   \\\\\n",
       "\t 2016 & 17   &  95  & TE   & 1   \\\\\n",
       "\t 2016 & 17   &  95  & DST  & 1   \\\\\n",
       "\t 2016 & 17   &  96  & QB   & 1   \\\\\n",
       "\t 2016 & 17   &  96  & RB   & 3   \\\\\n",
       "\t 2016 & 17   &  96  & WR   & 3   \\\\\n",
       "\t 2016 & 17   &  96  & TE   & 1   \\\\\n",
       "\t 2016 & 17   &  96  & DST  & 1   \\\\\n",
       "\t 2016 & 17   &  97  & QB   & 1   \\\\\n",
       "\t 2016 & 17   &  97  & RB   & 2   \\\\\n",
       "\t 2016 & 17   &  97  & WR   & 3   \\\\\n",
       "\t 2016 & 17   &  97  & TE   & 2   \\\\\n",
       "\t 2016 & 17   &  97  & DST  & 1   \\\\\n",
       "\t 2016 & 17   &  98  & QB   & 1   \\\\\n",
       "\t 2016 & 17   &  98  & RB   & 2   \\\\\n",
       "\t 2016 & 17   &  98  & WR   & 3   \\\\\n",
       "\t 2016 & 17   &  98  & TE   & 2   \\\\\n",
       "\t 2016 & 17   &  98  & DST  & 1   \\\\\n",
       "\t 2016 & 17   &  99  & QB   & 1   \\\\\n",
       "\t 2016 & 17   &  99  & RB   & 2   \\\\\n",
       "\t 2016 & 17   &  99  & WR   & 3   \\\\\n",
       "\t 2016 & 17   &  99  & TE   & 2   \\\\\n",
       "\t 2016 & 17   &  99  & DST  & 1   \\\\\n",
       "\t 2016 & 17   & 100  & QB   & 1   \\\\\n",
       "\t 2016 & 17   & 100  & RB   & 2   \\\\\n",
       "\t 2016 & 17   & 100  & WR   & 3   \\\\\n",
       "\t 2016 & 17   & 100  & TE   & 2   \\\\\n",
       "\t 2016 & 17   & 100  & DST  & 1   \\\\\n",
       "\\end{tabular}\n"
      ],
      "text/markdown": [
       "\n",
       "season_year | week | lineup.id | position | n | \n",
       "|---|---|---|---|---|---|---|---|---|---|---|---|---|---|---|---|---|---|---|---|---|---|---|---|---|---|---|---|---|---|---|---|---|---|---|---|---|---|---|---|---|---|---|---|---|---|---|---|---|---|---|---|---|---|---|---|---|---|---|---|---|\n",
       "| 2015 | 1    | 1    | QB   | 1    | \n",
       "| 2015 | 1    | 1    | RB   | 2    | \n",
       "| 2015 | 1    | 1    | WR   | 3    | \n",
       "| 2015 | 1    | 1    | TE   | 2    | \n",
       "| 2015 | 1    | 1    | DST  | 1    | \n",
       "| 2015 | 1    | 2    | QB   | 1    | \n",
       "| 2015 | 1    | 2    | RB   | 2    | \n",
       "| 2015 | 1    | 2    | WR   | 3    | \n",
       "| 2015 | 1    | 2    | TE   | 2    | \n",
       "| 2015 | 1    | 2    | DST  | 1    | \n",
       "| 2015 | 1    | 3    | QB   | 1    | \n",
       "| 2015 | 1    | 3    | RB   | 2    | \n",
       "| 2015 | 1    | 3    | WR   | 3    | \n",
       "| 2015 | 1    | 3    | TE   | 2    | \n",
       "| 2015 | 1    | 3    | DST  | 1    | \n",
       "| 2015 | 1    | 4    | QB   | 1    | \n",
       "| 2015 | 1    | 4    | RB   | 2    | \n",
       "| 2015 | 1    | 4    | WR   | 3    | \n",
       "| 2015 | 1    | 4    | TE   | 2    | \n",
       "| 2015 | 1    | 4    | DST  | 1    | \n",
       "| 2015 | 1    | 5    | QB   | 1    | \n",
       "| 2015 | 1    | 5    | RB   | 2    | \n",
       "| 2015 | 1    | 5    | WR   | 3    | \n",
       "| 2015 | 1    | 5    | TE   | 2    | \n",
       "| 2015 | 1    | 5    | DST  | 1    | \n",
       "| 2015 | 1    | 6    | QB   | 1    | \n",
       "| 2015 | 1    | 6    | RB   | 2    | \n",
       "| 2015 | 1    | 6    | WR   | 3    | \n",
       "| 2015 | 1    | 6    | TE   | 2    | \n",
       "| 2015 | 1    | 6    | DST  | 1    | \n",
       "| ⋮ | ⋮ | ⋮ | ⋮ | ⋮ | \n",
       "| 2016 | 17   |  95  | QB   | 1    | \n",
       "| 2016 | 17   |  95  | RB   | 3    | \n",
       "| 2016 | 17   |  95  | WR   | 3    | \n",
       "| 2016 | 17   |  95  | TE   | 1    | \n",
       "| 2016 | 17   |  95  | DST  | 1    | \n",
       "| 2016 | 17   |  96  | QB   | 1    | \n",
       "| 2016 | 17   |  96  | RB   | 3    | \n",
       "| 2016 | 17   |  96  | WR   | 3    | \n",
       "| 2016 | 17   |  96  | TE   | 1    | \n",
       "| 2016 | 17   |  96  | DST  | 1    | \n",
       "| 2016 | 17   |  97  | QB   | 1    | \n",
       "| 2016 | 17   |  97  | RB   | 2    | \n",
       "| 2016 | 17   |  97  | WR   | 3    | \n",
       "| 2016 | 17   |  97  | TE   | 2    | \n",
       "| 2016 | 17   |  97  | DST  | 1    | \n",
       "| 2016 | 17   |  98  | QB   | 1    | \n",
       "| 2016 | 17   |  98  | RB   | 2    | \n",
       "| 2016 | 17   |  98  | WR   | 3    | \n",
       "| 2016 | 17   |  98  | TE   | 2    | \n",
       "| 2016 | 17   |  98  | DST  | 1    | \n",
       "| 2016 | 17   |  99  | QB   | 1    | \n",
       "| 2016 | 17   |  99  | RB   | 2    | \n",
       "| 2016 | 17   |  99  | WR   | 3    | \n",
       "| 2016 | 17   |  99  | TE   | 2    | \n",
       "| 2016 | 17   |  99  | DST  | 1    | \n",
       "| 2016 | 17   | 100  | QB   | 1    | \n",
       "| 2016 | 17   | 100  | RB   | 2    | \n",
       "| 2016 | 17   | 100  | WR   | 3    | \n",
       "| 2016 | 17   | 100  | TE   | 2    | \n",
       "| 2016 | 17   | 100  | DST  | 1    | \n",
       "\n",
       "\n"
      ],
      "text/plain": [
       "      season_year week lineup.id position n\n",
       "1     2015        1    1         QB       1\n",
       "2     2015        1    1         RB       2\n",
       "3     2015        1    1         WR       3\n",
       "4     2015        1    1         TE       2\n",
       "5     2015        1    1         DST      1\n",
       "6     2015        1    2         QB       1\n",
       "7     2015        1    2         RB       2\n",
       "8     2015        1    2         WR       3\n",
       "9     2015        1    2         TE       2\n",
       "10    2015        1    2         DST      1\n",
       "11    2015        1    3         QB       1\n",
       "12    2015        1    3         RB       2\n",
       "13    2015        1    3         WR       3\n",
       "14    2015        1    3         TE       2\n",
       "15    2015        1    3         DST      1\n",
       "16    2015        1    4         QB       1\n",
       "17    2015        1    4         RB       2\n",
       "18    2015        1    4         WR       3\n",
       "19    2015        1    4         TE       2\n",
       "20    2015        1    4         DST      1\n",
       "21    2015        1    5         QB       1\n",
       "22    2015        1    5         RB       2\n",
       "23    2015        1    5         WR       3\n",
       "24    2015        1    5         TE       2\n",
       "25    2015        1    5         DST      1\n",
       "26    2015        1    6         QB       1\n",
       "27    2015        1    6         RB       2\n",
       "28    2015        1    6         WR       3\n",
       "29    2015        1    6         TE       2\n",
       "30    2015        1    6         DST      1\n",
       "⋮     ⋮           ⋮    ⋮         ⋮        ⋮\n",
       "16971 2016        17    95       QB       1\n",
       "16972 2016        17    95       RB       3\n",
       "16973 2016        17    95       WR       3\n",
       "16974 2016        17    95       TE       1\n",
       "16975 2016        17    95       DST      1\n",
       "16976 2016        17    96       QB       1\n",
       "16977 2016        17    96       RB       3\n",
       "16978 2016        17    96       WR       3\n",
       "16979 2016        17    96       TE       1\n",
       "16980 2016        17    96       DST      1\n",
       "16981 2016        17    97       QB       1\n",
       "16982 2016        17    97       RB       2\n",
       "16983 2016        17    97       WR       3\n",
       "16984 2016        17    97       TE       2\n",
       "16985 2016        17    97       DST      1\n",
       "16986 2016        17    98       QB       1\n",
       "16987 2016        17    98       RB       2\n",
       "16988 2016        17    98       WR       3\n",
       "16989 2016        17    98       TE       2\n",
       "16990 2016        17    98       DST      1\n",
       "16991 2016        17    99       QB       1\n",
       "16992 2016        17    99       RB       2\n",
       "16993 2016        17    99       WR       3\n",
       "16994 2016        17    99       TE       2\n",
       "16995 2016        17    99       DST      1\n",
       "16996 2016        17   100       QB       1\n",
       "16997 2016        17   100       RB       2\n",
       "16998 2016        17   100       WR       3\n",
       "16999 2016        17   100       TE       2\n",
       "17000 2016        17   100       DST      1"
      ]
     },
     "metadata": {},
     "output_type": "display_data"
    }
   ],
   "source": [
    "optdf %>% \n",
    "  group_by(season_year, week, lineup.id, position) %>%\n",
    "  summarize(n = n())"
   ]
  },
  {
   "cell_type": "code",
   "execution_count": 67,
   "metadata": {},
   "outputs": [
    {
     "data": {
      "text/html": [
       "<table>\n",
       "<thead><tr><th scope=col>season_year</th><th scope=col>position</th><th scope=col>pts</th><th scope=col>n</th></tr></thead>\n",
       "<tbody>\n",
       "\t<tr><td>2015    </td><td>QB      </td><td>34.61582</td><td>1.000000</td></tr>\n",
       "\t<tr><td>2015    </td><td>RB      </td><td>31.88566</td><td>2.656471</td></tr>\n",
       "\t<tr><td>2015    </td><td>WR      </td><td>35.31019</td><td>3.000000</td></tr>\n",
       "\t<tr><td>2015    </td><td>TE      </td><td>29.50135</td><td>1.343529</td></tr>\n",
       "\t<tr><td>2015    </td><td>DST     </td><td>22.20941</td><td>1.000000</td></tr>\n",
       "\t<tr><td>2016    </td><td>QB      </td><td>32.94442</td><td>1.000000</td></tr>\n",
       "\t<tr><td>2016    </td><td>RB      </td><td>32.99702</td><td>2.715882</td></tr>\n",
       "\t<tr><td>2016    </td><td>WR      </td><td>32.61875</td><td>3.000000</td></tr>\n",
       "\t<tr><td>2016    </td><td>TE      </td><td>27.36874</td><td>1.284118</td></tr>\n",
       "\t<tr><td>2016    </td><td>DST     </td><td>20.66294</td><td>1.000000</td></tr>\n",
       "</tbody>\n",
       "</table>\n"
      ],
      "text/latex": [
       "\\begin{tabular}{r|llll}\n",
       " season\\_year & position & pts & n\\\\\n",
       "\\hline\n",
       "\t 2015     & QB       & 34.61582 & 1.000000\\\\\n",
       "\t 2015     & RB       & 31.88566 & 2.656471\\\\\n",
       "\t 2015     & WR       & 35.31019 & 3.000000\\\\\n",
       "\t 2015     & TE       & 29.50135 & 1.343529\\\\\n",
       "\t 2015     & DST      & 22.20941 & 1.000000\\\\\n",
       "\t 2016     & QB       & 32.94442 & 1.000000\\\\\n",
       "\t 2016     & RB       & 32.99702 & 2.715882\\\\\n",
       "\t 2016     & WR       & 32.61875 & 3.000000\\\\\n",
       "\t 2016     & TE       & 27.36874 & 1.284118\\\\\n",
       "\t 2016     & DST      & 20.66294 & 1.000000\\\\\n",
       "\\end{tabular}\n"
      ],
      "text/markdown": [
       "\n",
       "season_year | position | pts | n | \n",
       "|---|---|---|---|---|---|---|---|---|---|\n",
       "| 2015     | QB       | 34.61582 | 1.000000 | \n",
       "| 2015     | RB       | 31.88566 | 2.656471 | \n",
       "| 2015     | WR       | 35.31019 | 3.000000 | \n",
       "| 2015     | TE       | 29.50135 | 1.343529 | \n",
       "| 2015     | DST      | 22.20941 | 1.000000 | \n",
       "| 2016     | QB       | 32.94442 | 1.000000 | \n",
       "| 2016     | RB       | 32.99702 | 2.715882 | \n",
       "| 2016     | WR       | 32.61875 | 3.000000 | \n",
       "| 2016     | TE       | 27.36874 | 1.284118 | \n",
       "| 2016     | DST      | 20.66294 | 1.000000 | \n",
       "\n",
       "\n"
      ],
      "text/plain": [
       "   season_year position pts      n       \n",
       "1  2015        QB       34.61582 1.000000\n",
       "2  2015        RB       31.88566 2.656471\n",
       "3  2015        WR       35.31019 3.000000\n",
       "4  2015        TE       29.50135 1.343529\n",
       "5  2015        DST      22.20941 1.000000\n",
       "6  2016        QB       32.94442 1.000000\n",
       "7  2016        RB       32.99702 2.715882\n",
       "8  2016        WR       32.61875 3.000000\n",
       "9  2016        TE       27.36874 1.284118\n",
       "10 2016        DST      20.66294 1.000000"
      ]
     },
     "metadata": {},
     "output_type": "display_data"
    }
   ],
   "source": [
    "# what top 100 lineups, on average, score for each position\n",
    "optdf %>% group_by(season_year, week, lineup.id, position) %>%\n",
    "  summarize(n = n(), pts = round(mean(fppg), 2)) %>%\n",
    "  group_by(season_year, position) %>%\n",
    "  summarize(pts = mean(pts), n = mean(n))"
   ]
  },
  {
   "cell_type": "code",
   "execution_count": null,
   "metadata": {
    "collapsed": true
   },
   "outputs": [],
   "source": []
  },
  {
   "cell_type": "code",
   "execution_count": null,
   "metadata": {
    "collapsed": true
   },
   "outputs": [],
   "source": []
  },
  {
   "cell_type": "code",
   "execution_count": null,
   "metadata": {
    "collapsed": true
   },
   "outputs": [],
   "source": []
  },
  {
   "cell_type": "code",
   "execution_count": null,
   "metadata": {
    "collapsed": true
   },
   "outputs": [],
   "source": []
  },
  {
   "cell_type": "markdown",
   "metadata": {
    "collapsed": true
   },
   "source": [
    "# Appendix"
   ]
  },
  {
   "cell_type": "markdown",
   "metadata": {
    "collapsed": true
   },
   "source": [
    "## Database Setup"
   ]
  },
  {
   "cell_type": "code",
   "execution_count": 3,
   "metadata": {
    "collapsed": true
   },
   "outputs": [],
   "source": [
    "dbcon <- function(conf='~/.rconfig') {\n",
    "  source(conf)\n",
    "  drv <- dbDriver('PostgreSQL')\n",
    "  dbConnect(drv, dbname = nfldb.database, user=nfldb.username, password=nfldb.password)\n",
    "}"
   ]
  },
  {
   "cell_type": "code",
   "execution_count": 4,
   "metadata": {
    "collapsed": true
   },
   "outputs": [],
   "source": [
    "dataset.dfs <- function(connxn, seas=2014) {\n",
    "  q = paste0(\n",
    "      \"SELECT * FROM vw_dfs WHERE season_year >= \", seas)\n",
    "  dbGetQuery(connxn, q)\n",
    "}"
   ]
  },
  {
   "cell_type": "code",
   "execution_count": 142,
   "metadata": {
    "collapsed": true
   },
   "outputs": [],
   "source": []
  },
  {
   "cell_type": "code",
   "execution_count": 143,
   "metadata": {
    "collapsed": true
   },
   "outputs": [],
   "source": []
  }
 ],
 "metadata": {
  "kernelspec": {
   "display_name": "R",
   "language": "R",
   "name": "ir"
  },
  "language_info": {
   "codemirror_mode": "r",
   "file_extension": ".r",
   "mimetype": "text/x-r-source",
   "name": "R",
   "pygments_lexer": "r",
   "version": "3.3.3"
  }
 },
 "nbformat": 4,
 "nbformat_minor": 2
}
